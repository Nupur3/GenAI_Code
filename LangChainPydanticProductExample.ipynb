{
 "cells": [
  {
   "cell_type": "code",
   "execution_count": 1,
   "id": "0cadda43",
   "metadata": {},
   "outputs": [
    {
     "name": "stderr",
     "output_type": "stream",
     "text": [
      "d:\\agenticBatch\\venv\\Lib\\site-packages\\requests\\__init__.py:86: RequestsDependencyWarning: Unable to find acceptable character detection dependency (chardet or charset_normalizer).\n",
      "  warnings.warn(\n"
     ]
    },
    {
     "name": "stdout",
     "output_type": "stream",
     "text": [
      "| product_name | product_details | tentative_price |\n",
      "|--------------|-----------------|-----------------|\n",
      "| iPhone 15 | Latest iPhone series featuring the A16 Bionic chip, advanced camera systems, and a Dynamic Island design. Available in multiple models including 15, 15 Plus, 15 Pro, and 15 Pro Max with options for titanium design and enhanced performance. | 799.0 |\n"
     ]
    }
   ],
   "source": [
    "from langchain_groq import ChatGroq\n",
    "from pydantic import BaseModel, Field\n",
    "from langchain_core.prompts import ChatPromptTemplate\n",
    "from langchain_core.output_parsers import PydanticOutputParser\n",
    "\n",
    "model = ChatGroq(model = \"qwen/qwen3-32b\")\n",
    "\n",
    "class Product(BaseModel):\n",
    "    product_name:str=Field(description=\"Name of the product\")\n",
    "    product_details:str=Field(description=\"Brief details about the product\")\n",
    "    tentative_price:float=Field(description=\"Approximate price of the product\")\n",
    "\n",
    "parser = PydanticOutputParser(pydantic_object= Product)\n",
    "\n",
    "template = ChatPromptTemplate.from_template(\n",
    "   \"\"\"\n",
    "    You are a product assistant.When the user asks about a product, always reply in a structured JSON format with the following field only:\n",
    "    product_name\n",
    "    product_details\n",
    "    tentative_price\n",
    "\n",
    "    {format_instructions}\n",
    "\n",
    "    User Query:{query}\n",
    "\n",
    "   \"\"\"\n",
    ")\n",
    "chain = template | model | parser\n",
    "\n",
    "query = \"Tell me about iphone15?\"\n",
    "\n",
    "result = chain.invoke({\"query\": query,\"format_instructions\":parser.get_format_instructions()})\n",
    "print(\"| product_name | product_details | tentative_price |\")\n",
    "print(\"|--------------|-----------------|-----------------|\")\n",
    "print(f\"| {result.product_name} | {result.product_details} | {result.tentative_price} |\")"
   ]
  }
 ],
 "metadata": {
  "kernelspec": {
   "display_name": "venv",
   "language": "python",
   "name": "python3"
  },
  "language_info": {
   "codemirror_mode": {
    "name": "ipython",
    "version": 3
   },
   "file_extension": ".py",
   "mimetype": "text/x-python",
   "name": "python",
   "nbconvert_exporter": "python",
   "pygments_lexer": "ipython3",
   "version": "3.13.0"
  }
 },
 "nbformat": 4,
 "nbformat_minor": 5
}
